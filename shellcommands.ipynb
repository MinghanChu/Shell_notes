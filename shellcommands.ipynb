{
  "nbformat": 4,
  "nbformat_minor": 0,
  "metadata": {
    "colab": {
      "provenance": [],
      "authorship_tag": "ABX9TyMVI5vQOzujAuLR4rUASKZb",
      "include_colab_link": true
    },
    "kernelspec": {
      "name": "python3",
      "display_name": "Python 3"
    },
    "language_info": {
      "name": "python"
    }
  },
  "cells": [
    {
      "cell_type": "markdown",
      "metadata": {
        "id": "view-in-github",
        "colab_type": "text"
      },
      "source": [
        "<a href=\"https://colab.research.google.com/github/Renshui-MC/Shell_notes/blob/main/shellcommands.ipynb\" target=\"_parent\"><img src=\"https://colab.research.google.com/assets/colab-badge.svg\" alt=\"Open In Colab\"/></a>"
      ]
    },
    {
      "cell_type": "markdown",
      "source": [
        "# Commands\n",
        "\n",
        "1. In `.bashrc` or `.bash_profile` you can create an **environment variable** that withholds data\n",
        "\n",
        "```\n",
        "  export MY_ROUTE='~/Documents/thisDir/otherDir/oneMoreDir/mySensitiveDir'\n",
        "```\n",
        "\n",
        "2. an **alias** that witholds a reference to a command\n",
        "\n",
        "```\n",
        "  alias bar=\"mkdir Directory\"\n",
        "```\n",
        "\n",
        "3. `grep` (find binary files)\n",
        "\n",
        "4. `which`\n",
        "\n",
        "5. `eval`\n"
      ],
      "metadata": {
        "id": "zoZLJedE4aGA"
      }
    },
    {
      "cell_type": "markdown",
      "source": [
        "# `.bashrc` vs `.bash_profile`"
      ],
      "metadata": {
        "id": "j1QQKkoX64mh"
      }
    },
    {
      "cell_type": "markdown",
      "source": [
        "# parent process vs child process with environment variable"
      ],
      "metadata": {
        "id": "4Yw4G4vU7DGi"
      }
    },
    {
      "cell_type": "code",
      "execution_count": null,
      "metadata": {
        "id": "CRryH-NG4X5u"
      },
      "outputs": [],
      "source": []
    }
  ]
}